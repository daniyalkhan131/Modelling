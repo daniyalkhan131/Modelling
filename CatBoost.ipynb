{
  "nbformat": 4,
  "nbformat_minor": 0,
  "metadata": {
    "colab": {
      "provenance": [],
      "gpuType": "T4"
    },
    "kernelspec": {
      "name": "python3",
      "display_name": "Python 3"
    },
    "language_info": {
      "name": "python"
    },
    "accelerator": "GPU",
    "widgets": {
      "application/vnd.jupyter.widget-state+json": {
        "e3bc1083532c488b9ae0c01dbbb23a8a": {
          "model_module": "catboost-widget",
          "model_name": "CatboostWidgetModel",
          "model_module_version": "^1.0.0",
          "state": {
            "_dom_classes": [],
            "_model_module": "catboost-widget",
            "_model_module_version": "^1.0.0",
            "_model_name": "CatboostWidgetModel",
            "_view_count": null,
            "_view_module": "catboost-widget",
            "_view_module_version": "^1.0.0",
            "_view_name": "CatboostWidgetView",
            "data": {
              "catboost_info": {
                "path": "catboost_info",
                "name": "catboost_info",
                "content": {
                  "passed_iterations": 99,
                  "total_iterations": 100,
                  "data": {
                    "iterations": [
                      {
                        "learn": [
                          0.8571428571,
                          0.643387175
                        ],
                        "iteration": 0,
                        "passed_time": 0.04371852983,
                        "remaining_time": 4.328134453,
                        "test": [
                          0.7885304659,
                          0.6527852777
                        ]
                      },
                      {
                        "learn": [
                          0.8553259141,
                          0.6085837705
                        ],
                        "iteration": 1,
                        "passed_time": 0.06725415608,
                        "remaining_time": 3.295453648,
                        "test": [
                          0.8275862069,
                          0.6192689341
                        ]
                      },
                      {
                        "learn": [
                          0.8562300319,
                          0.583708603
                        ],
                        "iteration": 2,
                        "passed_time": 0.09384716245,
                        "remaining_time": 3.034391586,
                        "test": [
                          0.8251748252,
                          0.5972166766
                        ]
                      },
                      {
                        "learn": [
                          0.8576,
                          0.5631626621
                        ],
                        "iteration": 3,
                        "passed_time": 0.10442257,
                        "remaining_time": 2.50614168,
                        "test": [
                          0.8309859155,
                          0.5824761602
                        ]
                      },
                      {
                        "learn": [
                          0.8557692308,
                          0.5474409117
                        ],
                        "iteration": 4,
                        "passed_time": 0.1334891117,
                        "remaining_time": 2.536293122,
                        "test": [
                          0.8309859155,
                          0.5735188376
                        ]
                      },
                      {
                        "learn": [
                          0.8539325843,
                          0.5358822862
                        ],
                        "iteration": 5,
                        "passed_time": 0.1457157416,
                        "remaining_time": 2.282879951,
                        "test": [
                          0.8339222615,
                          0.5646922295
                        ]
                      },
                      {
                        "learn": [
                          0.8520900322,
                          0.5242538267
                        ],
                        "iteration": 6,
                        "passed_time": 0.1647546066,
                        "remaining_time": 2.188882631,
                        "test": [
                          0.8309859155,
                          0.558824962
                        ]
                      },
                      {
                        "learn": [
                          0.8502415459,
                          0.5186191382
                        ],
                        "iteration": 7,
                        "passed_time": 0.2250508098,
                        "remaining_time": 2.588084313,
                        "test": [
                          0.8398576512,
                          0.5529298078
                        ]
                      },
                      {
                        "learn": [
                          0.8520900322,
                          0.5140275422
                        ],
                        "iteration": 8,
                        "passed_time": 0.2823966701,
                        "remaining_time": 2.855344109,
                        "test": [
                          0.8309859155,
                          0.5531666197
                        ]
                      },
                      {
                        "learn": [
                          0.8520900322,
                          0.5106442491
                        ],
                        "iteration": 9,
                        "passed_time": 0.3079963042,
                        "remaining_time": 2.771966738,
                        "test": [
                          0.8368794326,
                          0.5491005282
                        ]
                      },
                      {
                        "learn": [
                          0.8520900322,
                          0.5051686828
                        ],
                        "iteration": 10,
                        "passed_time": 0.3305169706,
                        "remaining_time": 2.674182762,
                        "test": [
                          0.8309859155,
                          0.5489542919
                        ]
                      },
                      {
                        "learn": [
                          0.8539325843,
                          0.5000729155
                        ],
                        "iteration": 11,
                        "passed_time": 0.3458605691,
                        "remaining_time": 2.53631084,
                        "test": [
                          0.8309859155,
                          0.5488109119
                        ]
                      },
                      {
                        "learn": [
                          0.8557692308,
                          0.4962211293
                        ],
                        "iteration": 12,
                        "passed_time": 0.3546492692,
                        "remaining_time": 2.373422033,
                        "test": [
                          0.8251748252,
                          0.5492360533
                        ]
                      },
                      {
                        "learn": [
                          0.8557692308,
                          0.4941055409
                        ],
                        "iteration": 13,
                        "passed_time": 0.3724667874,
                        "remaining_time": 2.288010265,
                        "test": [
                          0.8251748252,
                          0.5464304656
                        ]
                      },
                      {
                        "learn": [
                          0.8557692308,
                          0.4918320185
                        ],
                        "iteration": 14,
                        "passed_time": 0.376764807,
                        "remaining_time": 2.135000573,
                        "test": [
                          0.8251748252,
                          0.5468528635
                        ]
                      },
                      {
                        "learn": [
                          0.8576,
                          0.4884362882
                        ],
                        "iteration": 15,
                        "passed_time": 0.4098265238,
                        "remaining_time": 2.15158925,
                        "test": [
                          0.8251748252,
                          0.5464728595
                        ]
                      },
                      {
                        "learn": [
                          0.8576,
                          0.4861620975
                        ],
                        "iteration": 16,
                        "passed_time": 0.4425682437,
                        "remaining_time": 2.160774366,
                        "test": [
                          0.8309859155,
                          0.545926888
                        ]
                      },
                      {
                        "learn": [
                          0.8576,
                          0.4842252337
                        ],
                        "iteration": 17,
                        "passed_time": 0.4762822093,
                        "remaining_time": 2.169730065,
                        "test": [
                          0.8251748252,
                          0.5483816363
                        ]
                      },
                      {
                        "learn": [
                          0.8576,
                          0.4817596213
                        ],
                        "iteration": 18,
                        "passed_time": 0.4925225686,
                        "remaining_time": 2.099701477,
                        "test": [
                          0.8280701754,
                          0.5468905219
                        ]
                      },
                      {
                        "learn": [
                          0.8594249201,
                          0.4769060641
                        ],
                        "iteration": 19,
                        "passed_time": 0.4963489296,
                        "remaining_time": 1.985395718,
                        "test": [
                          0.8280701754,
                          0.5472555677
                        ]
                      },
                      {
                        "learn": [
                          0.8612440191,
                          0.4721568309
                        ],
                        "iteration": 20,
                        "passed_time": 0.5002059551,
                        "remaining_time": 1.881727164,
                        "test": [
                          0.8309859155,
                          0.5501227919
                        ]
                      },
                      {
                        "learn": [
                          0.8612440191,
                          0.4672140228
                        ],
                        "iteration": 21,
                        "passed_time": 0.5038971167,
                        "remaining_time": 1.786544323,
                        "test": [
                          0.8280701754,
                          0.5501764608
                        ]
                      },
                      {
                        "learn": [
                          0.8612440191,
                          0.464732966
                        ],
                        "iteration": 22,
                        "passed_time": 0.5077174144,
                        "remaining_time": 1.699749605,
                        "test": [
                          0.8309859155,
                          0.550110427
                        ]
                      },
                      {
                        "learn": [
                          0.8580542265,
                          0.4600090528
                        ],
                        "iteration": 23,
                        "passed_time": 0.5115582556,
                        "remaining_time": 1.619934476,
                        "test": [
                          0.8309859155,
                          0.5492843853
                        ]
                      },
                      {
                        "learn": [
                          0.8594249201,
                          0.4596015949
                        ],
                        "iteration": 24,
                        "passed_time": 0.5141203277,
                        "remaining_time": 1.542360983,
                        "test": [
                          0.8309859155,
                          0.5483043652
                        ]
                      },
                      {
                        "learn": [
                          0.8612440191,
                          0.4578640977
                        ],
                        "iteration": 25,
                        "passed_time": 0.5179804251,
                        "remaining_time": 1.474251979,
                        "test": [
                          0.8309859155,
                          0.5478673475
                        ]
                      },
                      {
                        "learn": [
                          0.8594249201,
                          0.4556180114
                        ],
                        "iteration": 26,
                        "passed_time": 0.5220128314,
                        "remaining_time": 1.411368026,
                        "test": [
                          0.8309859155,
                          0.5468218197
                        ]
                      },
                      {
                        "learn": [
                          0.8580542265,
                          0.4520890359
                        ],
                        "iteration": 27,
                        "passed_time": 0.5259208606,
                        "remaining_time": 1.352367927,
                        "test": [
                          0.8280701754,
                          0.5456567774
                        ]
                      },
                      {
                        "learn": [
                          0.8630573248,
                          0.4498143997
                        ],
                        "iteration": 28,
                        "passed_time": 0.5295696872,
                        "remaining_time": 1.296532683,
                        "test": [
                          0.8280701754,
                          0.5431110025
                        ]
                      },
                      {
                        "learn": [
                          0.8630573248,
                          0.4475620762
                        ],
                        "iteration": 29,
                        "passed_time": 0.533295644,
                        "remaining_time": 1.244356503,
                        "test": [
                          0.8280701754,
                          0.5438456042
                        ]
                      },
                      {
                        "learn": [
                          0.8598726115,
                          0.4447837514
                        ],
                        "iteration": 30,
                        "passed_time": 0.5371768715,
                        "remaining_time": 1.195651746,
                        "test": [
                          0.8280701754,
                          0.5460085563
                        ]
                      },
                      {
                        "learn": [
                          0.8598726115,
                          0.4408894931
                        ],
                        "iteration": 31,
                        "passed_time": 0.5466168666,
                        "remaining_time": 1.161560841,
                        "test": [
                          0.8280701754,
                          0.5492174496
                        ]
                      },
                      {
                        "learn": [
                          0.8598726115,
                          0.4391978466
                        ],
                        "iteration": 32,
                        "passed_time": 0.5504474456,
                        "remaining_time": 1.117575117,
                        "test": [
                          0.8251748252,
                          0.5480037746
                        ]
                      },
                      {
                        "learn": [
                          0.8612440191,
                          0.4376400022
                        ],
                        "iteration": 33,
                        "passed_time": 0.5544089973,
                        "remaining_time": 1.076205701,
                        "test": [
                          0.8251748252,
                          0.5486942911
                        ]
                      },
                      {
                        "learn": [
                          0.8612440191,
                          0.4359179123
                        ],
                        "iteration": 34,
                        "passed_time": 0.5582102515,
                        "remaining_time": 1.036676181,
                        "test": [
                          0.8251748252,
                          0.5482443072
                        ]
                      },
                      {
                        "learn": [
                          0.8666666667,
                          0.4316447831
                        ],
                        "iteration": 35,
                        "passed_time": 0.5619363704,
                        "remaining_time": 0.9989979919,
                        "test": [
                          0.8222996516,
                          0.5485028798
                        ]
                      },
                      {
                        "learn": [
                          0.8648648649,
                          0.4278185768
                        ],
                        "iteration": 36,
                        "passed_time": 0.5658165348,
                        "remaining_time": 0.9634173431,
                        "test": [
                          0.8222996516,
                          0.5509330486
                        ]
                      },
                      {
                        "learn": [
                          0.8648648649,
                          0.4245084962
                        ],
                        "iteration": 37,
                        "passed_time": 0.5695564392,
                        "remaining_time": 0.9292762955,
                        "test": [
                          0.8235294118,
                          0.5478620106
                        ]
                      },
                      {
                        "learn": [
                          0.8684627575,
                          0.4229277451
                        ],
                        "iteration": 38,
                        "passed_time": 0.5735033467,
                        "remaining_time": 0.8970180551,
                        "test": [
                          0.8235294118,
                          0.5498662112
                        ]
                      },
                      {
                        "learn": [
                          0.8666666667,
                          0.4212210996
                        ],
                        "iteration": 39,
                        "passed_time": 0.5773439241,
                        "remaining_time": 0.8660158861,
                        "test": [
                          0.8194444444,
                          0.5501265502
                        ]
                      },
                      {
                        "learn": [
                          0.8680445151,
                          0.4181279092
                        ],
                        "iteration": 40,
                        "passed_time": 0.5811531451,
                        "remaining_time": 0.8362935503,
                        "test": [
                          0.8235294118,
                          0.5503331076
                        ]
                      },
                      {
                        "learn": [
                          0.8698412698,
                          0.4164474376
                        ],
                        "iteration": 41,
                        "passed_time": 0.5849914267,
                        "remaining_time": 0.8078453036,
                        "test": [
                          0.8235294118,
                          0.5510516989
                        ]
                      },
                      {
                        "learn": [
                          0.8698412698,
                          0.4136482851
                        ],
                        "iteration": 42,
                        "passed_time": 0.5889190081,
                        "remaining_time": 0.7806600806,
                        "test": [
                          0.8235294118,
                          0.5502871809
                        ]
                      },
                      {
                        "learn": [
                          0.873015873,
                          0.4108964683
                        ],
                        "iteration": 43,
                        "passed_time": 0.5929517802,
                        "remaining_time": 0.754665902,
                        "test": [
                          0.8166089965,
                          0.5521222194
                        ]
                      },
                      {
                        "learn": [
                          0.873015873,
                          0.4087972154
                        ],
                        "iteration": 44,
                        "passed_time": 0.5967580241,
                        "remaining_time": 0.7293709184,
                        "test": [
                          0.8166089965,
                          0.5518554537
                        ]
                      },
                      {
                        "learn": [
                          0.8761904762,
                          0.4064099017
                        ],
                        "iteration": 45,
                        "passed_time": 0.6006251462,
                        "remaining_time": 0.7050816934,
                        "test": [
                          0.8235294118,
                          0.5528114958
                        ]
                      },
                      {
                        "learn": [
                          0.8775834658,
                          0.4030367441
                        ],
                        "iteration": 46,
                        "passed_time": 0.6043670624,
                        "remaining_time": 0.6815203044,
                        "test": [
                          0.8235294118,
                          0.5513493204
                        ]
                      },
                      {
                        "learn": [
                          0.8775834658,
                          0.4018356435
                        ],
                        "iteration": 47,
                        "passed_time": 0.6081221809,
                        "remaining_time": 0.6587990293,
                        "test": [
                          0.8137931034,
                          0.551525473
                        ]
                      },
                      {
                        "learn": [
                          0.8789808917,
                          0.4005160367
                        ],
                        "iteration": 48,
                        "passed_time": 0.6119420064,
                        "remaining_time": 0.6369192312,
                        "test": [
                          0.8194444444,
                          0.5528826032
                        ]
                      },
                      {
                        "learn": [
                          0.8789808917,
                          0.3988542394
                        ],
                        "iteration": 49,
                        "passed_time": 0.615756556,
                        "remaining_time": 0.615756556,
                        "test": [
                          0.8194444444,
                          0.5531408
                        ]
                      },
                      {
                        "learn": [
                          0.8803827751,
                          0.3965973494
                        ],
                        "iteration": 50,
                        "passed_time": 0.6195169235,
                        "remaining_time": 0.5952221422,
                        "test": [
                          0.8194444444,
                          0.5537181911
                        ]
                      },
                      {
                        "learn": [
                          0.8839427663,
                          0.3948451133
                        ],
                        "iteration": 51,
                        "passed_time": 0.6232735299,
                        "remaining_time": 0.5753294122,
                        "test": [
                          0.8166089965,
                          0.5553791441
                        ]
                      },
                      {
                        "learn": [
                          0.8835725678,
                          0.3917445719
                        ],
                        "iteration": 52,
                        "passed_time": 0.6271741892,
                        "remaining_time": 0.5561733376,
                        "test": [
                          0.8166089965,
                          0.5556193009
                        ]
                      },
                      {
                        "learn": [
                          0.8857142857,
                          0.3892844541
                        ],
                        "iteration": 53,
                        "passed_time": 0.6310115299,
                        "remaining_time": 0.5375283402,
                        "test": [
                          0.8166089965,
                          0.5546596508
                        ]
                      },
                      {
                        "learn": [
                          0.8857142857,
                          0.3877204839
                        ],
                        "iteration": 54,
                        "passed_time": 0.6347364439,
                        "remaining_time": 0.5193298178,
                        "test": [
                          0.8166089965,
                          0.555554545
                        ]
                      },
                      {
                        "learn": [
                          0.8871224165,
                          0.386018702
                        ],
                        "iteration": 55,
                        "passed_time": 0.6386364415,
                        "remaining_time": 0.5017857754,
                        "test": [
                          0.8166089965,
                          0.5556536895
                        ]
                      },
                      {
                        "learn": [
                          0.8885350318,
                          0.3848901456
                        ],
                        "iteration": 56,
                        "passed_time": 0.6426100663,
                        "remaining_time": 0.484776015,
                        "test": [
                          0.8194444444,
                          0.5574700116
                        ]
                      },
                      {
                        "learn": [
                          0.8899521531,
                          0.3840698836
                        ],
                        "iteration": 57,
                        "passed_time": 0.657068421,
                        "remaining_time": 0.475808167,
                        "test": [
                          0.8194444444,
                          0.5576416542
                        ]
                      },
                      {
                        "learn": [
                          0.8885350318,
                          0.3816513841
                        ],
                        "iteration": 58,
                        "passed_time": 0.6608223043,
                        "remaining_time": 0.4592154996,
                        "test": [
                          0.8137931034,
                          0.5577386565
                        ]
                      },
                      {
                        "learn": [
                          0.8899521531,
                          0.3807543827
                        ],
                        "iteration": 59,
                        "passed_time": 0.6645726,
                        "remaining_time": 0.4430484,
                        "test": [
                          0.8137931034,
                          0.5581030634
                        ]
                      },
                      {
                        "learn": [
                          0.8899521531,
                          0.3787213625
                        ],
                        "iteration": 60,
                        "passed_time": 0.6683918924,
                        "remaining_time": 0.4273325214,
                        "test": [
                          0.8137931034,
                          0.5583718586
                        ]
                      },
                      {
                        "learn": [
                          0.8931419458,
                          0.3775609149
                        ],
                        "iteration": 61,
                        "passed_time": 0.6721096288,
                        "remaining_time": 0.4119381596,
                        "test": [
                          0.8166089965,
                          0.5585014456
                        ]
                      },
                      {
                        "learn": [
                          0.8928,
                          0.3761521314
                        ],
                        "iteration": 62,
                        "passed_time": 0.6759811589,
                        "remaining_time": 0.3970048076,
                        "test": [
                          0.8166089965,
                          0.5592346191
                        ]
                      },
                      {
                        "learn": [
                          0.8942307692,
                          0.3742220988
                        ],
                        "iteration": 63,
                        "passed_time": 0.6797099697,
                        "remaining_time": 0.3823368579,
                        "test": [
                          0.8137931034,
                          0.5596657363
                        ]
                      },
                      {
                        "learn": [
                          0.896,
                          0.3723103693
                        ],
                        "iteration": 64,
                        "passed_time": 0.6834851,
                        "remaining_time": 0.3680304385,
                        "test": [
                          0.8096885813,
                          0.559635557
                        ]
                      },
                      {
                        "learn": [
                          0.896,
                          0.3696010989
                        ],
                        "iteration": 65,
                        "passed_time": 0.6874400632,
                        "remaining_time": 0.3541357901,
                        "test": [
                          0.8125,
                          0.5610511291
                        ]
                      },
                      {
                        "learn": [
                          0.8988764045,
                          0.3684210487
                        ],
                        "iteration": 66,
                        "passed_time": 0.6912915958,
                        "remaining_time": 0.3404869054,
                        "test": [
                          0.8027681661,
                          0.5620715512
                        ]
                      },
                      {
                        "learn": [
                          0.8985507246,
                          0.3663061657
                        ],
                        "iteration": 67,
                        "passed_time": 0.6951640829,
                        "remaining_time": 0.327136039,
                        "test": [
                          0.8083623693,
                          0.5619022012
                        ]
                      },
                      {
                        "learn": [
                          0.8953301127,
                          0.3653655783
                        ],
                        "iteration": 68,
                        "passed_time": 0.6989278401,
                        "remaining_time": 0.3140110586,
                        "test": [
                          0.8083623693,
                          0.5618971275
                        ]
                      },
                      {
                        "learn": [
                          0.8938906752,
                          0.3626699703
                        ],
                        "iteration": 69,
                        "passed_time": 0.7028008398,
                        "remaining_time": 0.3012003599,
                        "test": [
                          0.8083623693,
                          0.5614275251
                        ]
                      },
                      {
                        "learn": [
                          0.8924558587,
                          0.3619405927
                        ],
                        "iteration": 70,
                        "passed_time": 0.7069388333,
                        "remaining_time": 0.2887496643,
                        "test": [
                          0.8083623693,
                          0.5617920072
                        ]
                      },
                      {
                        "learn": [
                          0.8924558587,
                          0.3602685487
                        ],
                        "iteration": 71,
                        "passed_time": 0.7106938888,
                        "remaining_time": 0.2763809567,
                        "test": [
                          0.8083623693,
                          0.5626416888
                        ]
                      },
                      {
                        "learn": [
                          0.8924558587,
                          0.3597002981
                        ],
                        "iteration": 72,
                        "passed_time": 0.7153020691,
                        "remaining_time": 0.264563779,
                        "test": [
                          0.8083623693,
                          0.5625481065
                        ]
                      },
                      {
                        "learn": [
                          0.8956661316,
                          0.3585029472
                        ],
                        "iteration": 73,
                        "passed_time": 0.7190974696,
                        "remaining_time": 0.2526558677,
                        "test": [
                          0.8083623693,
                          0.5638084975
                        ]
                      },
                      {
                        "learn": [
                          0.8956661316,
                          0.3580608878
                        ],
                        "iteration": 74,
                        "passed_time": 0.7228753392,
                        "remaining_time": 0.2409584464,
                        "test": [
                          0.8083623693,
                          0.5638233429
                        ]
                      },
                      {
                        "learn": [
                          0.8956661316,
                          0.3569435435
                        ],
                        "iteration": 75,
                        "passed_time": 0.7265829033,
                        "remaining_time": 0.2294472326,
                        "test": [
                          0.8083623693,
                          0.5628146843
                        ]
                      },
                      {
                        "learn": [
                          0.8956661316,
                          0.3562111216
                        ],
                        "iteration": 76,
                        "passed_time": 0.7304959401,
                        "remaining_time": 0.218200086,
                        "test": [
                          0.8083623693,
                          0.5627445916
                        ]
                      },
                      {
                        "learn": [
                          0.8985507246,
                          0.3542824256
                        ],
                        "iteration": 77,
                        "passed_time": 0.7397584838,
                        "remaining_time": 0.2086498288,
                        "test": [
                          0.8055555556,
                          0.5618920538
                        ]
                      },
                      {
                        "learn": [
                          0.8985507246,
                          0.3528677019
                        ],
                        "iteration": 78,
                        "passed_time": 0.7436206183,
                        "remaining_time": 0.1976713036,
                        "test": [
                          0.8055555556,
                          0.562502706
                        ]
                      },
                      {
                        "learn": [
                          0.9003215434,
                          0.3520141008
                        ],
                        "iteration": 79,
                        "passed_time": 0.7473232413,
                        "remaining_time": 0.1868308103,
                        "test": [
                          0.8083623693,
                          0.5628635801
                        ]
                      },
                      {
                        "learn": [
                          0.9,
                          0.350844483
                        ],
                        "iteration": 80,
                        "passed_time": 0.7511001535,
                        "remaining_time": 0.1761839866,
                        "test": [
                          0.8083623693,
                          0.5634486006
                        ]
                      },
                      {
                        "learn": [
                          0.9038461538,
                          0.3483908252
                        ],
                        "iteration": 81,
                        "passed_time": 0.7548345493,
                        "remaining_time": 0.1656953889,
                        "test": [
                          0.8083623693,
                          0.564670356
                        ]
                      },
                      {
                        "learn": [
                          0.9099678457,
                          0.3472053546
                        ],
                        "iteration": 82,
                        "passed_time": 0.7586779594,
                        "remaining_time": 0.1553918712,
                        "test": [
                          0.8083623693,
                          0.5635376352
                        ]
                      },
                      {
                        "learn": [
                          0.9143780291,
                          0.3457252521
                        ],
                        "iteration": 83,
                        "passed_time": 0.7629097012,
                        "remaining_time": 0.1453161336,
                        "test": [
                          0.8055555556,
                          0.5635361695
                        ]
                      },
                      {
                        "learn": [
                          0.9143780291,
                          0.3444635619
                        ],
                        "iteration": 84,
                        "passed_time": 0.7666250065,
                        "remaining_time": 0.1352867659,
                        "test": [
                          0.8055555556,
                          0.5655418358
                        ]
                      },
                      {
                        "learn": [
                          0.9143780291,
                          0.3432250383
                        ],
                        "iteration": 85,
                        "passed_time": 0.770359221,
                        "remaining_time": 0.1254073151,
                        "test": [
                          0.8055555556,
                          0.5651807362
                        ]
                      },
                      {
                        "learn": [
                          0.9143780291,
                          0.3425951213
                        ],
                        "iteration": 86,
                        "passed_time": 0.7740533324,
                        "remaining_time": 0.1156631416,
                        "test": [
                          0.8055555556,
                          0.5665423013
                        ]
                      },
                      {
                        "learn": [
                          0.9143780291,
                          0.3413471305
                        ],
                        "iteration": 87,
                        "passed_time": 0.7778986899,
                        "remaining_time": 0.1060770941,
                        "test": [
                          0.8013937282,
                          0.5666089739
                        ]
                      },
                      {
                        "learn": [
                          0.9158576052,
                          0.3404111468
                        ],
                        "iteration": 88,
                        "passed_time": 0.7816088633,
                        "remaining_time": 0.09660334266,
                        "test": [
                          0.8013937282,
                          0.5671341619
                        ]
                      },
                      {
                        "learn": [
                          0.9158576052,
                          0.3392596465
                        ],
                        "iteration": 89,
                        "passed_time": 0.7856774279,
                        "remaining_time": 0.08729749199,
                        "test": [
                          0.8013937282,
                          0.566622128
                        ]
                      },
                      {
                        "learn": [
                          0.9158576052,
                          0.3387427411
                        ],
                        "iteration": 90,
                        "passed_time": 0.7898257497,
                        "remaining_time": 0.07811463458,
                        "test": [
                          0.8055555556,
                          0.5661734971
                        ]
                      },
                      {
                        "learn": [
                          0.9129032258,
                          0.3375667377
                        ],
                        "iteration": 91,
                        "passed_time": 0.7935825552,
                        "remaining_time": 0.06900717872,
                        "test": [
                          0.8013937282,
                          0.566857399
                        ]
                      },
                      {
                        "learn": [
                          0.9129032258,
                          0.3359966046
                        ],
                        "iteration": 92,
                        "passed_time": 0.7974216521,
                        "remaining_time": 0.06002098456,
                        "test": [
                          0.8055555556,
                          0.5674751921
                        ]
                      },
                      {
                        "learn": [
                          0.9129032258,
                          0.3350145846
                        ],
                        "iteration": 93,
                        "passed_time": 0.8011523299,
                        "remaining_time": 0.05113738276,
                        "test": [
                          0.8055555556,
                          0.5671877931
                        ]
                      },
                      {
                        "learn": [
                          0.9129032258,
                          0.3331896928
                        ],
                        "iteration": 94,
                        "passed_time": 0.8050929819,
                        "remaining_time": 0.04237331484,
                        "test": [
                          0.8055555556,
                          0.565943375
                        ]
                      },
                      {
                        "learn": [
                          0.9143780291,
                          0.3318649255
                        ],
                        "iteration": 95,
                        "passed_time": 0.8088510654,
                        "remaining_time": 0.03370212772,
                        "test": [
                          0.8055555556,
                          0.5657128019
                        ]
                      },
                      {
                        "learn": [
                          0.9143780291,
                          0.3305913178
                        ],
                        "iteration": 96,
                        "passed_time": 0.812639769,
                        "remaining_time": 0.02513318873,
                        "test": [
                          0.8055555556,
                          0.566067099
                        ]
                      },
                      {
                        "learn": [
                          0.9143780291,
                          0.329530108
                        ],
                        "iteration": 97,
                        "passed_time": 0.8164076438,
                        "remaining_time": 0.01666138049,
                        "test": [
                          0.8055555556,
                          0.5661128754
                        ]
                      },
                      {
                        "learn": [
                          0.9143780291,
                          0.3281957622
                        ],
                        "iteration": 98,
                        "passed_time": 0.8201450941,
                        "remaining_time": 0.00828429388,
                        "test": [
                          0.8055555556,
                          0.5668514609
                        ]
                      },
                      {
                        "learn": [
                          0.9143780291,
                          0.3270095862
                        ],
                        "iteration": 99,
                        "passed_time": 0.8240043323,
                        "remaining_time": 0,
                        "test": [
                          0.8055555556,
                          0.5679107816
                        ]
                      }
                    ],
                    "meta": {
                      "test_sets": [
                        "test"
                      ],
                      "test_metrics": [
                        {
                          "best_value": "Max",
                          "name": "F1"
                        },
                        {
                          "best_value": "Min",
                          "name": "Logloss"
                        }
                      ],
                      "learn_metrics": [
                        {
                          "best_value": "Max",
                          "name": "F1"
                        },
                        {
                          "best_value": "Min",
                          "name": "Logloss"
                        }
                      ],
                      "launch_mode": "Train",
                      "parameters": "",
                      "iteration_count": 100,
                      "learn_sets": [
                        "learn"
                      ],
                      "name": "experiment"
                    }
                  }
                }
              }
            },
            "layout": "IPY_MODEL_3b51bf6327a647618f0cfe719d179e25"
          }
        }
      }
    }
  },
  "cells": [
    {
      "cell_type": "code",
      "execution_count": 1,
      "metadata": {
        "colab": {
          "base_uri": "https://localhost:8080/"
        },
        "id": "ni1c738nRxLu",
        "outputId": "d8296551-6cc1-440e-bb43-fc5aaee2861a"
      },
      "outputs": [
        {
          "output_type": "stream",
          "name": "stdout",
          "text": [
            "Collecting catboost\n",
            "  Downloading catboost-1.2-cp310-cp310-manylinux2014_x86_64.whl (98.6 MB)\n",
            "\u001b[2K     \u001b[90m━━━━━━━━━━━━━━━━━━━━━━━━━━━━━━━━━━━━━━━━\u001b[0m \u001b[32m98.6/98.6 MB\u001b[0m \u001b[31m7.5 MB/s\u001b[0m eta \u001b[36m0:00:00\u001b[0m\n",
            "\u001b[?25hRequirement already satisfied: graphviz in /usr/local/lib/python3.10/dist-packages (from catboost) (0.20.1)\n",
            "Requirement already satisfied: matplotlib in /usr/local/lib/python3.10/dist-packages (from catboost) (3.7.1)\n",
            "Requirement already satisfied: numpy>=1.16.0 in /usr/local/lib/python3.10/dist-packages (from catboost) (1.22.4)\n",
            "Requirement already satisfied: pandas>=0.24 in /usr/local/lib/python3.10/dist-packages (from catboost) (1.5.3)\n",
            "Requirement already satisfied: scipy in /usr/local/lib/python3.10/dist-packages (from catboost) (1.10.1)\n",
            "Requirement already satisfied: plotly in /usr/local/lib/python3.10/dist-packages (from catboost) (5.13.1)\n",
            "Requirement already satisfied: six in /usr/local/lib/python3.10/dist-packages (from catboost) (1.16.0)\n",
            "Requirement already satisfied: python-dateutil>=2.8.1 in /usr/local/lib/python3.10/dist-packages (from pandas>=0.24->catboost) (2.8.2)\n",
            "Requirement already satisfied: pytz>=2020.1 in /usr/local/lib/python3.10/dist-packages (from pandas>=0.24->catboost) (2022.7.1)\n",
            "Requirement already satisfied: contourpy>=1.0.1 in /usr/local/lib/python3.10/dist-packages (from matplotlib->catboost) (1.1.0)\n",
            "Requirement already satisfied: cycler>=0.10 in /usr/local/lib/python3.10/dist-packages (from matplotlib->catboost) (0.11.0)\n",
            "Requirement already satisfied: fonttools>=4.22.0 in /usr/local/lib/python3.10/dist-packages (from matplotlib->catboost) (4.41.1)\n",
            "Requirement already satisfied: kiwisolver>=1.0.1 in /usr/local/lib/python3.10/dist-packages (from matplotlib->catboost) (1.4.4)\n",
            "Requirement already satisfied: packaging>=20.0 in /usr/local/lib/python3.10/dist-packages (from matplotlib->catboost) (23.1)\n",
            "Requirement already satisfied: pillow>=6.2.0 in /usr/local/lib/python3.10/dist-packages (from matplotlib->catboost) (9.4.0)\n",
            "Requirement already satisfied: pyparsing>=2.3.1 in /usr/local/lib/python3.10/dist-packages (from matplotlib->catboost) (3.1.0)\n",
            "Requirement already satisfied: tenacity>=6.2.0 in /usr/local/lib/python3.10/dist-packages (from plotly->catboost) (8.2.2)\n",
            "Installing collected packages: catboost\n",
            "Successfully installed catboost-1.2\n"
          ]
        }
      ],
      "source": [
        "!pip install catboost"
      ]
    },
    {
      "cell_type": "code",
      "source": [
        "import numpy as np\n",
        "import pandas as pd\n",
        "import seaborn as sns\n",
        "import statsmodels.api as sm\n",
        "from catboost import CatBoostClassifier\n",
        "from scipy import stats\n",
        "from sklearn.model_selection import train_test_split\n",
        "from sklearn.metrics import f1_score, accuracy_score"
      ],
      "metadata": {
        "id": "FxWzt9MZR43f"
      },
      "execution_count": 2,
      "outputs": []
    },
    {
      "cell_type": "code",
      "source": [
        "def resumetable(df):\n",
        "    print(f\"Dataset Shape: {df.shape}\")\n",
        "    summary = pd.DataFrame(df.dtypes,columns=['dtypes'])\n",
        "    summary = summary.reset_index()\n",
        "    summary['Name'] = summary['index']\n",
        "    summary = summary[['Name','dtypes']]\n",
        "    summary['Missing'] = df.isnull().sum().values\n",
        "    summary['Uniques'] = df.nunique().values\n",
        "    summary['First Value'] = df.loc[0].values\n",
        "    summary['Second Value'] = df.loc[1].values\n",
        "    return summary\n",
        ""
      ],
      "metadata": {
        "id": "bENYiEIHSyAg"
      },
      "execution_count": 3,
      "outputs": []
    },
    {
      "cell_type": "code",
      "source": [
        "!ls"
      ],
      "metadata": {
        "colab": {
          "base_uri": "https://localhost:8080/"
        },
        "id": "nHSMKv8BS1TD",
        "outputId": "2ea47371-f574-434a-bbd2-0b88cac42dad"
      },
      "execution_count": 4,
      "outputs": [
        {
          "output_type": "stream",
          "name": "stdout",
          "text": [
            "sample_data  ToyData.txt\n"
          ]
        }
      ]
    },
    {
      "cell_type": "code",
      "source": [
        "df=pd.read_csv(\"ToyData.txt\")"
      ],
      "metadata": {
        "id": "i_HjBEc2S7It"
      },
      "execution_count": 5,
      "outputs": []
    },
    {
      "cell_type": "code",
      "source": [
        "df.head()\n",
        ""
      ],
      "metadata": {
        "colab": {
          "base_uri": "https://localhost:8080/",
          "height": 206
        },
        "id": "fvlWnOs6TArj",
        "outputId": "f1b2e3a2-9ac3-4917-bde4-733b2ad834a1"
      },
      "execution_count": 6,
      "outputs": [
        {
          "output_type": "execute_result",
          "data": {
            "text/plain": [
              "   ApplicantIncome  CoapplicantIncome  LoanAmount  Loan_Amount_Term  \\\n",
              "0           5849.0                0.0         0.0             360.0   \n",
              "1           4583.0             1508.0       128.0             360.0   \n",
              "2           3000.0                0.0        66.0             360.0   \n",
              "3           2583.0             2358.0       120.0             360.0   \n",
              "4           6000.0                0.0       141.0             360.0   \n",
              "\n",
              "  Credit_History  Loan_Status  \n",
              "0            Yes            1  \n",
              "1            Yes            0  \n",
              "2            Yes            1  \n",
              "3            Yes            1  \n",
              "4            Yes            1  "
            ],
            "text/html": [
              "\n",
              "\n",
              "  <div id=\"df-0f689520-e60c-4033-82a8-bb38242a0414\">\n",
              "    <div class=\"colab-df-container\">\n",
              "      <div>\n",
              "<style scoped>\n",
              "    .dataframe tbody tr th:only-of-type {\n",
              "        vertical-align: middle;\n",
              "    }\n",
              "\n",
              "    .dataframe tbody tr th {\n",
              "        vertical-align: top;\n",
              "    }\n",
              "\n",
              "    .dataframe thead th {\n",
              "        text-align: right;\n",
              "    }\n",
              "</style>\n",
              "<table border=\"1\" class=\"dataframe\">\n",
              "  <thead>\n",
              "    <tr style=\"text-align: right;\">\n",
              "      <th></th>\n",
              "      <th>ApplicantIncome</th>\n",
              "      <th>CoapplicantIncome</th>\n",
              "      <th>LoanAmount</th>\n",
              "      <th>Loan_Amount_Term</th>\n",
              "      <th>Credit_History</th>\n",
              "      <th>Loan_Status</th>\n",
              "    </tr>\n",
              "  </thead>\n",
              "  <tbody>\n",
              "    <tr>\n",
              "      <th>0</th>\n",
              "      <td>5849.0</td>\n",
              "      <td>0.0</td>\n",
              "      <td>0.0</td>\n",
              "      <td>360.0</td>\n",
              "      <td>Yes</td>\n",
              "      <td>1</td>\n",
              "    </tr>\n",
              "    <tr>\n",
              "      <th>1</th>\n",
              "      <td>4583.0</td>\n",
              "      <td>1508.0</td>\n",
              "      <td>128.0</td>\n",
              "      <td>360.0</td>\n",
              "      <td>Yes</td>\n",
              "      <td>0</td>\n",
              "    </tr>\n",
              "    <tr>\n",
              "      <th>2</th>\n",
              "      <td>3000.0</td>\n",
              "      <td>0.0</td>\n",
              "      <td>66.0</td>\n",
              "      <td>360.0</td>\n",
              "      <td>Yes</td>\n",
              "      <td>1</td>\n",
              "    </tr>\n",
              "    <tr>\n",
              "      <th>3</th>\n",
              "      <td>2583.0</td>\n",
              "      <td>2358.0</td>\n",
              "      <td>120.0</td>\n",
              "      <td>360.0</td>\n",
              "      <td>Yes</td>\n",
              "      <td>1</td>\n",
              "    </tr>\n",
              "    <tr>\n",
              "      <th>4</th>\n",
              "      <td>6000.0</td>\n",
              "      <td>0.0</td>\n",
              "      <td>141.0</td>\n",
              "      <td>360.0</td>\n",
              "      <td>Yes</td>\n",
              "      <td>1</td>\n",
              "    </tr>\n",
              "  </tbody>\n",
              "</table>\n",
              "</div>\n",
              "      <button class=\"colab-df-convert\" onclick=\"convertToInteractive('df-0f689520-e60c-4033-82a8-bb38242a0414')\"\n",
              "              title=\"Convert this dataframe to an interactive table.\"\n",
              "              style=\"display:none;\">\n",
              "\n",
              "  <svg xmlns=\"http://www.w3.org/2000/svg\" height=\"24px\"viewBox=\"0 0 24 24\"\n",
              "       width=\"24px\">\n",
              "    <path d=\"M0 0h24v24H0V0z\" fill=\"none\"/>\n",
              "    <path d=\"M18.56 5.44l.94 2.06.94-2.06 2.06-.94-2.06-.94-.94-2.06-.94 2.06-2.06.94zm-11 1L8.5 8.5l.94-2.06 2.06-.94-2.06-.94L8.5 2.5l-.94 2.06-2.06.94zm10 10l.94 2.06.94-2.06 2.06-.94-2.06-.94-.94-2.06-.94 2.06-2.06.94z\"/><path d=\"M17.41 7.96l-1.37-1.37c-.4-.4-.92-.59-1.43-.59-.52 0-1.04.2-1.43.59L10.3 9.45l-7.72 7.72c-.78.78-.78 2.05 0 2.83L4 21.41c.39.39.9.59 1.41.59.51 0 1.02-.2 1.41-.59l7.78-7.78 2.81-2.81c.8-.78.8-2.07 0-2.86zM5.41 20L4 18.59l7.72-7.72 1.47 1.35L5.41 20z\"/>\n",
              "  </svg>\n",
              "      </button>\n",
              "\n",
              "\n",
              "\n",
              "    <div id=\"df-3ef253a7-e970-45d5-96af-5c340fefa492\">\n",
              "      <button class=\"colab-df-quickchart\" onclick=\"quickchart('df-3ef253a7-e970-45d5-96af-5c340fefa492')\"\n",
              "              title=\"Suggest charts.\"\n",
              "              style=\"display:none;\">\n",
              "\n",
              "<svg xmlns=\"http://www.w3.org/2000/svg\" height=\"24px\"viewBox=\"0 0 24 24\"\n",
              "     width=\"24px\">\n",
              "    <g>\n",
              "        <path d=\"M19 3H5c-1.1 0-2 .9-2 2v14c0 1.1.9 2 2 2h14c1.1 0 2-.9 2-2V5c0-1.1-.9-2-2-2zM9 17H7v-7h2v7zm4 0h-2V7h2v10zm4 0h-2v-4h2v4z\"/>\n",
              "    </g>\n",
              "</svg>\n",
              "      </button>\n",
              "    </div>\n",
              "\n",
              "<style>\n",
              "  .colab-df-quickchart {\n",
              "    background-color: #E8F0FE;\n",
              "    border: none;\n",
              "    border-radius: 50%;\n",
              "    cursor: pointer;\n",
              "    display: none;\n",
              "    fill: #1967D2;\n",
              "    height: 32px;\n",
              "    padding: 0 0 0 0;\n",
              "    width: 32px;\n",
              "  }\n",
              "\n",
              "  .colab-df-quickchart:hover {\n",
              "    background-color: #E2EBFA;\n",
              "    box-shadow: 0px 1px 2px rgba(60, 64, 67, 0.3), 0px 1px 3px 1px rgba(60, 64, 67, 0.15);\n",
              "    fill: #174EA6;\n",
              "  }\n",
              "\n",
              "  [theme=dark] .colab-df-quickchart {\n",
              "    background-color: #3B4455;\n",
              "    fill: #D2E3FC;\n",
              "  }\n",
              "\n",
              "  [theme=dark] .colab-df-quickchart:hover {\n",
              "    background-color: #434B5C;\n",
              "    box-shadow: 0px 1px 3px 1px rgba(0, 0, 0, 0.15);\n",
              "    filter: drop-shadow(0px 1px 2px rgba(0, 0, 0, 0.3));\n",
              "    fill: #FFFFFF;\n",
              "  }\n",
              "</style>\n",
              "\n",
              "    <script>\n",
              "      async function quickchart(key) {\n",
              "        const containerElement = document.querySelector('#' + key);\n",
              "        const charts = await google.colab.kernel.invokeFunction(\n",
              "            'suggestCharts', [key], {});\n",
              "      }\n",
              "    </script>\n",
              "\n",
              "      <script>\n",
              "\n",
              "function displayQuickchartButton(domScope) {\n",
              "  let quickchartButtonEl =\n",
              "    domScope.querySelector('#df-3ef253a7-e970-45d5-96af-5c340fefa492 button.colab-df-quickchart');\n",
              "  quickchartButtonEl.style.display =\n",
              "    google.colab.kernel.accessAllowed ? 'block' : 'none';\n",
              "}\n",
              "\n",
              "        displayQuickchartButton(document);\n",
              "      </script>\n",
              "      <style>\n",
              "    .colab-df-container {\n",
              "      display:flex;\n",
              "      flex-wrap:wrap;\n",
              "      gap: 12px;\n",
              "    }\n",
              "\n",
              "    .colab-df-convert {\n",
              "      background-color: #E8F0FE;\n",
              "      border: none;\n",
              "      border-radius: 50%;\n",
              "      cursor: pointer;\n",
              "      display: none;\n",
              "      fill: #1967D2;\n",
              "      height: 32px;\n",
              "      padding: 0 0 0 0;\n",
              "      width: 32px;\n",
              "    }\n",
              "\n",
              "    .colab-df-convert:hover {\n",
              "      background-color: #E2EBFA;\n",
              "      box-shadow: 0px 1px 2px rgba(60, 64, 67, 0.3), 0px 1px 3px 1px rgba(60, 64, 67, 0.15);\n",
              "      fill: #174EA6;\n",
              "    }\n",
              "\n",
              "    [theme=dark] .colab-df-convert {\n",
              "      background-color: #3B4455;\n",
              "      fill: #D2E3FC;\n",
              "    }\n",
              "\n",
              "    [theme=dark] .colab-df-convert:hover {\n",
              "      background-color: #434B5C;\n",
              "      box-shadow: 0px 1px 3px 1px rgba(0, 0, 0, 0.15);\n",
              "      filter: drop-shadow(0px 1px 2px rgba(0, 0, 0, 0.3));\n",
              "      fill: #FFFFFF;\n",
              "    }\n",
              "  </style>\n",
              "\n",
              "      <script>\n",
              "        const buttonEl =\n",
              "          document.querySelector('#df-0f689520-e60c-4033-82a8-bb38242a0414 button.colab-df-convert');\n",
              "        buttonEl.style.display =\n",
              "          google.colab.kernel.accessAllowed ? 'block' : 'none';\n",
              "\n",
              "        async function convertToInteractive(key) {\n",
              "          const element = document.querySelector('#df-0f689520-e60c-4033-82a8-bb38242a0414');\n",
              "          const dataTable =\n",
              "            await google.colab.kernel.invokeFunction('convertToInteractive',\n",
              "                                                     [key], {});\n",
              "          if (!dataTable) return;\n",
              "\n",
              "          const docLinkHtml = 'Like what you see? Visit the ' +\n",
              "            '<a target=\"_blank\" href=https://colab.research.google.com/notebooks/data_table.ipynb>data table notebook</a>'\n",
              "            + ' to learn more about interactive tables.';\n",
              "          element.innerHTML = '';\n",
              "          dataTable['output_type'] = 'display_data';\n",
              "          await google.colab.output.renderOutput(dataTable, element);\n",
              "          const docLink = document.createElement('div');\n",
              "          docLink.innerHTML = docLinkHtml;\n",
              "          element.appendChild(docLink);\n",
              "        }\n",
              "      </script>\n",
              "    </div>\n",
              "  </div>\n"
            ]
          },
          "metadata": {},
          "execution_count": 6
        }
      ]
    },
    {
      "cell_type": "code",
      "source": [
        "\n",
        "print (\"Total number of rows in dataset = {}\".format(df.shape[0]))\n",
        "print (\"Total number of columns in dataset = {}\".format(df.shape[1]))"
      ],
      "metadata": {
        "colab": {
          "base_uri": "https://localhost:8080/"
        },
        "id": "S8Vipo50TCKj",
        "outputId": "d6c03d14-a756-4caf-febf-eb72067ac13a"
      },
      "execution_count": 7,
      "outputs": [
        {
          "output_type": "stream",
          "name": "stdout",
          "text": [
            "Total number of rows in dataset = 614\n",
            "Total number of columns in dataset = 6\n"
          ]
        }
      ]
    },
    {
      "cell_type": "code",
      "source": [
        "result = resumetable(df)\n",
        "result\n",
        ""
      ],
      "metadata": {
        "colab": {
          "base_uri": "https://localhost:8080/",
          "height": 255
        },
        "id": "wDTmDdBhTICL",
        "outputId": "b52f24d0-bd69-458c-9c59-2d2d4ef2a846"
      },
      "execution_count": 8,
      "outputs": [
        {
          "output_type": "stream",
          "name": "stdout",
          "text": [
            "Dataset Shape: (614, 6)\n"
          ]
        },
        {
          "output_type": "execute_result",
          "data": {
            "text/plain": [
              "                Name   dtypes  Missing  Uniques First Value Second Value\n",
              "0    ApplicantIncome  float64        2      503      5849.0       4583.0\n",
              "1  CoapplicantIncome  float64        2      287         0.0       1508.0\n",
              "2         LoanAmount  float64        3      203         0.0        128.0\n",
              "3   Loan_Amount_Term  float64        2       11       360.0        360.0\n",
              "4     Credit_History   object        0        2         Yes          Yes\n",
              "5        Loan_Status    int64        0        2           1            0"
            ],
            "text/html": [
              "\n",
              "\n",
              "  <div id=\"df-44455ea8-ca10-4a92-86b1-6e90cdc3a92d\">\n",
              "    <div class=\"colab-df-container\">\n",
              "      <div>\n",
              "<style scoped>\n",
              "    .dataframe tbody tr th:only-of-type {\n",
              "        vertical-align: middle;\n",
              "    }\n",
              "\n",
              "    .dataframe tbody tr th {\n",
              "        vertical-align: top;\n",
              "    }\n",
              "\n",
              "    .dataframe thead th {\n",
              "        text-align: right;\n",
              "    }\n",
              "</style>\n",
              "<table border=\"1\" class=\"dataframe\">\n",
              "  <thead>\n",
              "    <tr style=\"text-align: right;\">\n",
              "      <th></th>\n",
              "      <th>Name</th>\n",
              "      <th>dtypes</th>\n",
              "      <th>Missing</th>\n",
              "      <th>Uniques</th>\n",
              "      <th>First Value</th>\n",
              "      <th>Second Value</th>\n",
              "    </tr>\n",
              "  </thead>\n",
              "  <tbody>\n",
              "    <tr>\n",
              "      <th>0</th>\n",
              "      <td>ApplicantIncome</td>\n",
              "      <td>float64</td>\n",
              "      <td>2</td>\n",
              "      <td>503</td>\n",
              "      <td>5849.0</td>\n",
              "      <td>4583.0</td>\n",
              "    </tr>\n",
              "    <tr>\n",
              "      <th>1</th>\n",
              "      <td>CoapplicantIncome</td>\n",
              "      <td>float64</td>\n",
              "      <td>2</td>\n",
              "      <td>287</td>\n",
              "      <td>0.0</td>\n",
              "      <td>1508.0</td>\n",
              "    </tr>\n",
              "    <tr>\n",
              "      <th>2</th>\n",
              "      <td>LoanAmount</td>\n",
              "      <td>float64</td>\n",
              "      <td>3</td>\n",
              "      <td>203</td>\n",
              "      <td>0.0</td>\n",
              "      <td>128.0</td>\n",
              "    </tr>\n",
              "    <tr>\n",
              "      <th>3</th>\n",
              "      <td>Loan_Amount_Term</td>\n",
              "      <td>float64</td>\n",
              "      <td>2</td>\n",
              "      <td>11</td>\n",
              "      <td>360.0</td>\n",
              "      <td>360.0</td>\n",
              "    </tr>\n",
              "    <tr>\n",
              "      <th>4</th>\n",
              "      <td>Credit_History</td>\n",
              "      <td>object</td>\n",
              "      <td>0</td>\n",
              "      <td>2</td>\n",
              "      <td>Yes</td>\n",
              "      <td>Yes</td>\n",
              "    </tr>\n",
              "    <tr>\n",
              "      <th>5</th>\n",
              "      <td>Loan_Status</td>\n",
              "      <td>int64</td>\n",
              "      <td>0</td>\n",
              "      <td>2</td>\n",
              "      <td>1</td>\n",
              "      <td>0</td>\n",
              "    </tr>\n",
              "  </tbody>\n",
              "</table>\n",
              "</div>\n",
              "      <button class=\"colab-df-convert\" onclick=\"convertToInteractive('df-44455ea8-ca10-4a92-86b1-6e90cdc3a92d')\"\n",
              "              title=\"Convert this dataframe to an interactive table.\"\n",
              "              style=\"display:none;\">\n",
              "\n",
              "  <svg xmlns=\"http://www.w3.org/2000/svg\" height=\"24px\"viewBox=\"0 0 24 24\"\n",
              "       width=\"24px\">\n",
              "    <path d=\"M0 0h24v24H0V0z\" fill=\"none\"/>\n",
              "    <path d=\"M18.56 5.44l.94 2.06.94-2.06 2.06-.94-2.06-.94-.94-2.06-.94 2.06-2.06.94zm-11 1L8.5 8.5l.94-2.06 2.06-.94-2.06-.94L8.5 2.5l-.94 2.06-2.06.94zm10 10l.94 2.06.94-2.06 2.06-.94-2.06-.94-.94-2.06-.94 2.06-2.06.94z\"/><path d=\"M17.41 7.96l-1.37-1.37c-.4-.4-.92-.59-1.43-.59-.52 0-1.04.2-1.43.59L10.3 9.45l-7.72 7.72c-.78.78-.78 2.05 0 2.83L4 21.41c.39.39.9.59 1.41.59.51 0 1.02-.2 1.41-.59l7.78-7.78 2.81-2.81c.8-.78.8-2.07 0-2.86zM5.41 20L4 18.59l7.72-7.72 1.47 1.35L5.41 20z\"/>\n",
              "  </svg>\n",
              "      </button>\n",
              "\n",
              "\n",
              "\n",
              "    <div id=\"df-83f56ddd-94d0-43b5-93da-c6cdbc6841b7\">\n",
              "      <button class=\"colab-df-quickchart\" onclick=\"quickchart('df-83f56ddd-94d0-43b5-93da-c6cdbc6841b7')\"\n",
              "              title=\"Suggest charts.\"\n",
              "              style=\"display:none;\">\n",
              "\n",
              "<svg xmlns=\"http://www.w3.org/2000/svg\" height=\"24px\"viewBox=\"0 0 24 24\"\n",
              "     width=\"24px\">\n",
              "    <g>\n",
              "        <path d=\"M19 3H5c-1.1 0-2 .9-2 2v14c0 1.1.9 2 2 2h14c1.1 0 2-.9 2-2V5c0-1.1-.9-2-2-2zM9 17H7v-7h2v7zm4 0h-2V7h2v10zm4 0h-2v-4h2v4z\"/>\n",
              "    </g>\n",
              "</svg>\n",
              "      </button>\n",
              "    </div>\n",
              "\n",
              "<style>\n",
              "  .colab-df-quickchart {\n",
              "    background-color: #E8F0FE;\n",
              "    border: none;\n",
              "    border-radius: 50%;\n",
              "    cursor: pointer;\n",
              "    display: none;\n",
              "    fill: #1967D2;\n",
              "    height: 32px;\n",
              "    padding: 0 0 0 0;\n",
              "    width: 32px;\n",
              "  }\n",
              "\n",
              "  .colab-df-quickchart:hover {\n",
              "    background-color: #E2EBFA;\n",
              "    box-shadow: 0px 1px 2px rgba(60, 64, 67, 0.3), 0px 1px 3px 1px rgba(60, 64, 67, 0.15);\n",
              "    fill: #174EA6;\n",
              "  }\n",
              "\n",
              "  [theme=dark] .colab-df-quickchart {\n",
              "    background-color: #3B4455;\n",
              "    fill: #D2E3FC;\n",
              "  }\n",
              "\n",
              "  [theme=dark] .colab-df-quickchart:hover {\n",
              "    background-color: #434B5C;\n",
              "    box-shadow: 0px 1px 3px 1px rgba(0, 0, 0, 0.15);\n",
              "    filter: drop-shadow(0px 1px 2px rgba(0, 0, 0, 0.3));\n",
              "    fill: #FFFFFF;\n",
              "  }\n",
              "</style>\n",
              "\n",
              "    <script>\n",
              "      async function quickchart(key) {\n",
              "        const containerElement = document.querySelector('#' + key);\n",
              "        const charts = await google.colab.kernel.invokeFunction(\n",
              "            'suggestCharts', [key], {});\n",
              "      }\n",
              "    </script>\n",
              "\n",
              "      <script>\n",
              "\n",
              "function displayQuickchartButton(domScope) {\n",
              "  let quickchartButtonEl =\n",
              "    domScope.querySelector('#df-83f56ddd-94d0-43b5-93da-c6cdbc6841b7 button.colab-df-quickchart');\n",
              "  quickchartButtonEl.style.display =\n",
              "    google.colab.kernel.accessAllowed ? 'block' : 'none';\n",
              "}\n",
              "\n",
              "        displayQuickchartButton(document);\n",
              "      </script>\n",
              "      <style>\n",
              "    .colab-df-container {\n",
              "      display:flex;\n",
              "      flex-wrap:wrap;\n",
              "      gap: 12px;\n",
              "    }\n",
              "\n",
              "    .colab-df-convert {\n",
              "      background-color: #E8F0FE;\n",
              "      border: none;\n",
              "      border-radius: 50%;\n",
              "      cursor: pointer;\n",
              "      display: none;\n",
              "      fill: #1967D2;\n",
              "      height: 32px;\n",
              "      padding: 0 0 0 0;\n",
              "      width: 32px;\n",
              "    }\n",
              "\n",
              "    .colab-df-convert:hover {\n",
              "      background-color: #E2EBFA;\n",
              "      box-shadow: 0px 1px 2px rgba(60, 64, 67, 0.3), 0px 1px 3px 1px rgba(60, 64, 67, 0.15);\n",
              "      fill: #174EA6;\n",
              "    }\n",
              "\n",
              "    [theme=dark] .colab-df-convert {\n",
              "      background-color: #3B4455;\n",
              "      fill: #D2E3FC;\n",
              "    }\n",
              "\n",
              "    [theme=dark] .colab-df-convert:hover {\n",
              "      background-color: #434B5C;\n",
              "      box-shadow: 0px 1px 3px 1px rgba(0, 0, 0, 0.15);\n",
              "      filter: drop-shadow(0px 1px 2px rgba(0, 0, 0, 0.3));\n",
              "      fill: #FFFFFF;\n",
              "    }\n",
              "  </style>\n",
              "\n",
              "      <script>\n",
              "        const buttonEl =\n",
              "          document.querySelector('#df-44455ea8-ca10-4a92-86b1-6e90cdc3a92d button.colab-df-convert');\n",
              "        buttonEl.style.display =\n",
              "          google.colab.kernel.accessAllowed ? 'block' : 'none';\n",
              "\n",
              "        async function convertToInteractive(key) {\n",
              "          const element = document.querySelector('#df-44455ea8-ca10-4a92-86b1-6e90cdc3a92d');\n",
              "          const dataTable =\n",
              "            await google.colab.kernel.invokeFunction('convertToInteractive',\n",
              "                                                     [key], {});\n",
              "          if (!dataTable) return;\n",
              "\n",
              "          const docLinkHtml = 'Like what you see? Visit the ' +\n",
              "            '<a target=\"_blank\" href=https://colab.research.google.com/notebooks/data_table.ipynb>data table notebook</a>'\n",
              "            + ' to learn more about interactive tables.';\n",
              "          element.innerHTML = '';\n",
              "          dataTable['output_type'] = 'display_data';\n",
              "          await google.colab.output.renderOutput(dataTable, element);\n",
              "          const docLink = document.createElement('div');\n",
              "          docLink.innerHTML = docLinkHtml;\n",
              "          element.appendChild(docLink);\n",
              "        }\n",
              "      </script>\n",
              "    </div>\n",
              "  </div>\n"
            ]
          },
          "metadata": {},
          "execution_count": 8
        }
      ]
    },
    {
      "cell_type": "code",
      "source": [
        "\n",
        "target_col = \"Loan_Status\"\n",
        "X = df.loc[:, df.columns != target_col]\n",
        "y = df.loc[:, target_col]"
      ],
      "metadata": {
        "id": "ThtpU2WCTKK0"
      },
      "execution_count": 9,
      "outputs": []
    },
    {
      "cell_type": "code",
      "source": [
        "X_train, X_test, y_train, y_test = train_test_split(X, y,\n",
        "                                                    test_size=0.33,\n",
        "                                                    random_state=42)"
      ],
      "metadata": {
        "id": "jqdM5oQrTaI-"
      },
      "execution_count": 10,
      "outputs": []
    },
    {
      "cell_type": "code",
      "source": [
        "\n",
        "X_train.head()"
      ],
      "metadata": {
        "colab": {
          "base_uri": "https://localhost:8080/",
          "height": 206
        },
        "id": "feBSvJh8TbiB",
        "outputId": "de0cc9a3-7305-4304-a5f2-2d9639a2463c"
      },
      "execution_count": 11,
      "outputs": [
        {
          "output_type": "execute_result",
          "data": {
            "text/plain": [
              "     ApplicantIncome  CoapplicantIncome  LoanAmount  Loan_Amount_Term  \\\n",
              "244           3406.0             4417.0       123.0             360.0   \n",
              "393           1993.0             1625.0       113.0             180.0   \n",
              "310           2917.0                0.0        84.0             360.0   \n",
              "408           8300.0                0.0       152.0             300.0   \n",
              "572          16666.0                0.0       275.0             360.0   \n",
              "\n",
              "    Credit_History  \n",
              "244            Yes  \n",
              "393            Yes  \n",
              "310            Yes  \n",
              "408             No  \n",
              "572            Yes  "
            ],
            "text/html": [
              "\n",
              "\n",
              "  <div id=\"df-995f085d-595d-4ae6-a29a-5260f1718dc4\">\n",
              "    <div class=\"colab-df-container\">\n",
              "      <div>\n",
              "<style scoped>\n",
              "    .dataframe tbody tr th:only-of-type {\n",
              "        vertical-align: middle;\n",
              "    }\n",
              "\n",
              "    .dataframe tbody tr th {\n",
              "        vertical-align: top;\n",
              "    }\n",
              "\n",
              "    .dataframe thead th {\n",
              "        text-align: right;\n",
              "    }\n",
              "</style>\n",
              "<table border=\"1\" class=\"dataframe\">\n",
              "  <thead>\n",
              "    <tr style=\"text-align: right;\">\n",
              "      <th></th>\n",
              "      <th>ApplicantIncome</th>\n",
              "      <th>CoapplicantIncome</th>\n",
              "      <th>LoanAmount</th>\n",
              "      <th>Loan_Amount_Term</th>\n",
              "      <th>Credit_History</th>\n",
              "    </tr>\n",
              "  </thead>\n",
              "  <tbody>\n",
              "    <tr>\n",
              "      <th>244</th>\n",
              "      <td>3406.0</td>\n",
              "      <td>4417.0</td>\n",
              "      <td>123.0</td>\n",
              "      <td>360.0</td>\n",
              "      <td>Yes</td>\n",
              "    </tr>\n",
              "    <tr>\n",
              "      <th>393</th>\n",
              "      <td>1993.0</td>\n",
              "      <td>1625.0</td>\n",
              "      <td>113.0</td>\n",
              "      <td>180.0</td>\n",
              "      <td>Yes</td>\n",
              "    </tr>\n",
              "    <tr>\n",
              "      <th>310</th>\n",
              "      <td>2917.0</td>\n",
              "      <td>0.0</td>\n",
              "      <td>84.0</td>\n",
              "      <td>360.0</td>\n",
              "      <td>Yes</td>\n",
              "    </tr>\n",
              "    <tr>\n",
              "      <th>408</th>\n",
              "      <td>8300.0</td>\n",
              "      <td>0.0</td>\n",
              "      <td>152.0</td>\n",
              "      <td>300.0</td>\n",
              "      <td>No</td>\n",
              "    </tr>\n",
              "    <tr>\n",
              "      <th>572</th>\n",
              "      <td>16666.0</td>\n",
              "      <td>0.0</td>\n",
              "      <td>275.0</td>\n",
              "      <td>360.0</td>\n",
              "      <td>Yes</td>\n",
              "    </tr>\n",
              "  </tbody>\n",
              "</table>\n",
              "</div>\n",
              "      <button class=\"colab-df-convert\" onclick=\"convertToInteractive('df-995f085d-595d-4ae6-a29a-5260f1718dc4')\"\n",
              "              title=\"Convert this dataframe to an interactive table.\"\n",
              "              style=\"display:none;\">\n",
              "\n",
              "  <svg xmlns=\"http://www.w3.org/2000/svg\" height=\"24px\"viewBox=\"0 0 24 24\"\n",
              "       width=\"24px\">\n",
              "    <path d=\"M0 0h24v24H0V0z\" fill=\"none\"/>\n",
              "    <path d=\"M18.56 5.44l.94 2.06.94-2.06 2.06-.94-2.06-.94-.94-2.06-.94 2.06-2.06.94zm-11 1L8.5 8.5l.94-2.06 2.06-.94-2.06-.94L8.5 2.5l-.94 2.06-2.06.94zm10 10l.94 2.06.94-2.06 2.06-.94-2.06-.94-.94-2.06-.94 2.06-2.06.94z\"/><path d=\"M17.41 7.96l-1.37-1.37c-.4-.4-.92-.59-1.43-.59-.52 0-1.04.2-1.43.59L10.3 9.45l-7.72 7.72c-.78.78-.78 2.05 0 2.83L4 21.41c.39.39.9.59 1.41.59.51 0 1.02-.2 1.41-.59l7.78-7.78 2.81-2.81c.8-.78.8-2.07 0-2.86zM5.41 20L4 18.59l7.72-7.72 1.47 1.35L5.41 20z\"/>\n",
              "  </svg>\n",
              "      </button>\n",
              "\n",
              "\n",
              "\n",
              "    <div id=\"df-f41623ec-98d7-4bf2-b53a-df2f84905a39\">\n",
              "      <button class=\"colab-df-quickchart\" onclick=\"quickchart('df-f41623ec-98d7-4bf2-b53a-df2f84905a39')\"\n",
              "              title=\"Suggest charts.\"\n",
              "              style=\"display:none;\">\n",
              "\n",
              "<svg xmlns=\"http://www.w3.org/2000/svg\" height=\"24px\"viewBox=\"0 0 24 24\"\n",
              "     width=\"24px\">\n",
              "    <g>\n",
              "        <path d=\"M19 3H5c-1.1 0-2 .9-2 2v14c0 1.1.9 2 2 2h14c1.1 0 2-.9 2-2V5c0-1.1-.9-2-2-2zM9 17H7v-7h2v7zm4 0h-2V7h2v10zm4 0h-2v-4h2v4z\"/>\n",
              "    </g>\n",
              "</svg>\n",
              "      </button>\n",
              "    </div>\n",
              "\n",
              "<style>\n",
              "  .colab-df-quickchart {\n",
              "    background-color: #E8F0FE;\n",
              "    border: none;\n",
              "    border-radius: 50%;\n",
              "    cursor: pointer;\n",
              "    display: none;\n",
              "    fill: #1967D2;\n",
              "    height: 32px;\n",
              "    padding: 0 0 0 0;\n",
              "    width: 32px;\n",
              "  }\n",
              "\n",
              "  .colab-df-quickchart:hover {\n",
              "    background-color: #E2EBFA;\n",
              "    box-shadow: 0px 1px 2px rgba(60, 64, 67, 0.3), 0px 1px 3px 1px rgba(60, 64, 67, 0.15);\n",
              "    fill: #174EA6;\n",
              "  }\n",
              "\n",
              "  [theme=dark] .colab-df-quickchart {\n",
              "    background-color: #3B4455;\n",
              "    fill: #D2E3FC;\n",
              "  }\n",
              "\n",
              "  [theme=dark] .colab-df-quickchart:hover {\n",
              "    background-color: #434B5C;\n",
              "    box-shadow: 0px 1px 3px 1px rgba(0, 0, 0, 0.15);\n",
              "    filter: drop-shadow(0px 1px 2px rgba(0, 0, 0, 0.3));\n",
              "    fill: #FFFFFF;\n",
              "  }\n",
              "</style>\n",
              "\n",
              "    <script>\n",
              "      async function quickchart(key) {\n",
              "        const containerElement = document.querySelector('#' + key);\n",
              "        const charts = await google.colab.kernel.invokeFunction(\n",
              "            'suggestCharts', [key], {});\n",
              "      }\n",
              "    </script>\n",
              "\n",
              "      <script>\n",
              "\n",
              "function displayQuickchartButton(domScope) {\n",
              "  let quickchartButtonEl =\n",
              "    domScope.querySelector('#df-f41623ec-98d7-4bf2-b53a-df2f84905a39 button.colab-df-quickchart');\n",
              "  quickchartButtonEl.style.display =\n",
              "    google.colab.kernel.accessAllowed ? 'block' : 'none';\n",
              "}\n",
              "\n",
              "        displayQuickchartButton(document);\n",
              "      </script>\n",
              "      <style>\n",
              "    .colab-df-container {\n",
              "      display:flex;\n",
              "      flex-wrap:wrap;\n",
              "      gap: 12px;\n",
              "    }\n",
              "\n",
              "    .colab-df-convert {\n",
              "      background-color: #E8F0FE;\n",
              "      border: none;\n",
              "      border-radius: 50%;\n",
              "      cursor: pointer;\n",
              "      display: none;\n",
              "      fill: #1967D2;\n",
              "      height: 32px;\n",
              "      padding: 0 0 0 0;\n",
              "      width: 32px;\n",
              "    }\n",
              "\n",
              "    .colab-df-convert:hover {\n",
              "      background-color: #E2EBFA;\n",
              "      box-shadow: 0px 1px 2px rgba(60, 64, 67, 0.3), 0px 1px 3px 1px rgba(60, 64, 67, 0.15);\n",
              "      fill: #174EA6;\n",
              "    }\n",
              "\n",
              "    [theme=dark] .colab-df-convert {\n",
              "      background-color: #3B4455;\n",
              "      fill: #D2E3FC;\n",
              "    }\n",
              "\n",
              "    [theme=dark] .colab-df-convert:hover {\n",
              "      background-color: #434B5C;\n",
              "      box-shadow: 0px 1px 3px 1px rgba(0, 0, 0, 0.15);\n",
              "      filter: drop-shadow(0px 1px 2px rgba(0, 0, 0, 0.3));\n",
              "      fill: #FFFFFF;\n",
              "    }\n",
              "  </style>\n",
              "\n",
              "      <script>\n",
              "        const buttonEl =\n",
              "          document.querySelector('#df-995f085d-595d-4ae6-a29a-5260f1718dc4 button.colab-df-convert');\n",
              "        buttonEl.style.display =\n",
              "          google.colab.kernel.accessAllowed ? 'block' : 'none';\n",
              "\n",
              "        async function convertToInteractive(key) {\n",
              "          const element = document.querySelector('#df-995f085d-595d-4ae6-a29a-5260f1718dc4');\n",
              "          const dataTable =\n",
              "            await google.colab.kernel.invokeFunction('convertToInteractive',\n",
              "                                                     [key], {});\n",
              "          if (!dataTable) return;\n",
              "\n",
              "          const docLinkHtml = 'Like what you see? Visit the ' +\n",
              "            '<a target=\"_blank\" href=https://colab.research.google.com/notebooks/data_table.ipynb>data table notebook</a>'\n",
              "            + ' to learn more about interactive tables.';\n",
              "          element.innerHTML = '';\n",
              "          dataTable['output_type'] = 'display_data';\n",
              "          await google.colab.output.renderOutput(dataTable, element);\n",
              "          const docLink = document.createElement('div');\n",
              "          docLink.innerHTML = docLinkHtml;\n",
              "          element.appendChild(docLink);\n",
              "        }\n",
              "      </script>\n",
              "    </div>\n",
              "  </div>\n"
            ]
          },
          "metadata": {},
          "execution_count": 11
        }
      ]
    },
    {
      "cell_type": "code",
      "source": [
        "features = list(X_train.columns)"
      ],
      "metadata": {
        "id": "pVsbHPYsTc4X"
      },
      "execution_count": 12,
      "outputs": []
    },
    {
      "cell_type": "code",
      "source": [
        "cat_features = [\"Credit_History\"]"
      ],
      "metadata": {
        "id": "fjmdpt_eTejc"
      },
      "execution_count": 13,
      "outputs": []
    },
    {
      "cell_type": "code",
      "source": [
        "#no data preprocessing is done, directly applied model\n",
        "#this is because catboost require less preprocessing\n",
        "#not convert cat. variables to num.\n",
        "#havent removed missing\n",
        "model_cb = CatBoostClassifier(task_type='GPU', iterations=100,\n",
        "                              random_state = 2021,\n",
        "                              eval_metric=\"F1\")"
      ],
      "metadata": {
        "id": "5DY_aYy8TgMw"
      },
      "execution_count": 15,
      "outputs": []
    },
    {
      "cell_type": "code",
      "source": [
        "model_cb.fit(X_train, y_train, cat_features= cat_features, plot=True,\n",
        "             eval_set=(X_test, y_test))"
      ],
      "metadata": {
        "colab": {
          "base_uri": "https://localhost:8080/",
          "height": 1000,
          "referenced_widgets": [
            "e3bc1083532c488b9ae0c01dbbb23a8a"
          ]
        },
        "id": "nuKrCSYjT0pm",
        "outputId": "d6c5a6ba-a761-4af4-9e5c-757b46d03de6"
      },
      "execution_count": 16,
      "outputs": [
        {
          "output_type": "display_data",
          "data": {
            "text/plain": [
              "MetricVisualizer(layout=Layout(align_self='stretch', height='500px'))"
            ],
            "application/vnd.jupyter.widget-view+json": {
              "version_major": 2,
              "version_minor": 0,
              "model_id": "e3bc1083532c488b9ae0c01dbbb23a8a"
            }
          },
          "metadata": {}
        },
        {
          "output_type": "stream",
          "name": "stdout",
          "text": [
            "Learning rate set to 0.199227\n",
            "0:\tlearn: 0.8571429\ttest: 0.7885305\tbest: 0.7885305 (0)\ttotal: 43.7ms\tremaining: 4.33s\n",
            "1:\tlearn: 0.8553259\ttest: 0.8275862\tbest: 0.8275862 (1)\ttotal: 67.3ms\tremaining: 3.29s\n",
            "2:\tlearn: 0.8562300\ttest: 0.8251748\tbest: 0.8275862 (1)\ttotal: 93.8ms\tremaining: 3.03s\n",
            "3:\tlearn: 0.8576000\ttest: 0.8309859\tbest: 0.8309859 (3)\ttotal: 104ms\tremaining: 2.51s\n",
            "4:\tlearn: 0.8557692\ttest: 0.8309859\tbest: 0.8309859 (3)\ttotal: 133ms\tremaining: 2.54s\n",
            "5:\tlearn: 0.8539326\ttest: 0.8339223\tbest: 0.8339223 (5)\ttotal: 146ms\tremaining: 2.28s\n",
            "6:\tlearn: 0.8520900\ttest: 0.8309859\tbest: 0.8339223 (5)\ttotal: 165ms\tremaining: 2.19s\n",
            "7:\tlearn: 0.8502415\ttest: 0.8398577\tbest: 0.8398577 (7)\ttotal: 225ms\tremaining: 2.59s\n",
            "8:\tlearn: 0.8520900\ttest: 0.8309859\tbest: 0.8398577 (7)\ttotal: 282ms\tremaining: 2.85s\n",
            "9:\tlearn: 0.8520900\ttest: 0.8368794\tbest: 0.8398577 (7)\ttotal: 308ms\tremaining: 2.77s\n",
            "10:\tlearn: 0.8520900\ttest: 0.8309859\tbest: 0.8398577 (7)\ttotal: 331ms\tremaining: 2.67s\n",
            "11:\tlearn: 0.8539326\ttest: 0.8309859\tbest: 0.8398577 (7)\ttotal: 346ms\tremaining: 2.54s\n",
            "12:\tlearn: 0.8557692\ttest: 0.8251748\tbest: 0.8398577 (7)\ttotal: 355ms\tremaining: 2.37s\n",
            "13:\tlearn: 0.8557692\ttest: 0.8251748\tbest: 0.8398577 (7)\ttotal: 372ms\tremaining: 2.29s\n",
            "14:\tlearn: 0.8557692\ttest: 0.8251748\tbest: 0.8398577 (7)\ttotal: 377ms\tremaining: 2.13s\n",
            "15:\tlearn: 0.8576000\ttest: 0.8251748\tbest: 0.8398577 (7)\ttotal: 410ms\tremaining: 2.15s\n",
            "16:\tlearn: 0.8576000\ttest: 0.8309859\tbest: 0.8398577 (7)\ttotal: 443ms\tremaining: 2.16s\n",
            "17:\tlearn: 0.8576000\ttest: 0.8251748\tbest: 0.8398577 (7)\ttotal: 476ms\tremaining: 2.17s\n",
            "18:\tlearn: 0.8576000\ttest: 0.8280702\tbest: 0.8398577 (7)\ttotal: 493ms\tremaining: 2.1s\n",
            "19:\tlearn: 0.8594249\ttest: 0.8280702\tbest: 0.8398577 (7)\ttotal: 496ms\tremaining: 1.99s\n",
            "20:\tlearn: 0.8612440\ttest: 0.8309859\tbest: 0.8398577 (7)\ttotal: 500ms\tremaining: 1.88s\n",
            "21:\tlearn: 0.8612440\ttest: 0.8280702\tbest: 0.8398577 (7)\ttotal: 504ms\tremaining: 1.79s\n",
            "22:\tlearn: 0.8612440\ttest: 0.8309859\tbest: 0.8398577 (7)\ttotal: 508ms\tremaining: 1.7s\n",
            "23:\tlearn: 0.8580542\ttest: 0.8309859\tbest: 0.8398577 (7)\ttotal: 512ms\tremaining: 1.62s\n",
            "24:\tlearn: 0.8594249\ttest: 0.8309859\tbest: 0.8398577 (7)\ttotal: 514ms\tremaining: 1.54s\n",
            "25:\tlearn: 0.8612440\ttest: 0.8309859\tbest: 0.8398577 (7)\ttotal: 518ms\tremaining: 1.47s\n",
            "26:\tlearn: 0.8594249\ttest: 0.8309859\tbest: 0.8398577 (7)\ttotal: 522ms\tremaining: 1.41s\n",
            "27:\tlearn: 0.8580542\ttest: 0.8280702\tbest: 0.8398577 (7)\ttotal: 526ms\tremaining: 1.35s\n",
            "28:\tlearn: 0.8630573\ttest: 0.8280702\tbest: 0.8398577 (7)\ttotal: 530ms\tremaining: 1.3s\n",
            "29:\tlearn: 0.8630573\ttest: 0.8280702\tbest: 0.8398577 (7)\ttotal: 533ms\tremaining: 1.24s\n",
            "30:\tlearn: 0.8598726\ttest: 0.8280702\tbest: 0.8398577 (7)\ttotal: 537ms\tremaining: 1.2s\n",
            "31:\tlearn: 0.8598726\ttest: 0.8280702\tbest: 0.8398577 (7)\ttotal: 547ms\tremaining: 1.16s\n",
            "32:\tlearn: 0.8598726\ttest: 0.8251748\tbest: 0.8398577 (7)\ttotal: 550ms\tremaining: 1.12s\n",
            "33:\tlearn: 0.8612440\ttest: 0.8251748\tbest: 0.8398577 (7)\ttotal: 554ms\tremaining: 1.08s\n",
            "34:\tlearn: 0.8612440\ttest: 0.8251748\tbest: 0.8398577 (7)\ttotal: 558ms\tremaining: 1.04s\n",
            "35:\tlearn: 0.8666667\ttest: 0.8222997\tbest: 0.8398577 (7)\ttotal: 562ms\tremaining: 999ms\n",
            "36:\tlearn: 0.8648649\ttest: 0.8222997\tbest: 0.8398577 (7)\ttotal: 566ms\tremaining: 963ms\n",
            "37:\tlearn: 0.8648649\ttest: 0.8235294\tbest: 0.8398577 (7)\ttotal: 570ms\tremaining: 929ms\n",
            "38:\tlearn: 0.8684628\ttest: 0.8235294\tbest: 0.8398577 (7)\ttotal: 574ms\tremaining: 897ms\n",
            "39:\tlearn: 0.8666667\ttest: 0.8194444\tbest: 0.8398577 (7)\ttotal: 577ms\tremaining: 866ms\n",
            "40:\tlearn: 0.8680445\ttest: 0.8235294\tbest: 0.8398577 (7)\ttotal: 581ms\tremaining: 836ms\n",
            "41:\tlearn: 0.8698413\ttest: 0.8235294\tbest: 0.8398577 (7)\ttotal: 585ms\tremaining: 808ms\n",
            "42:\tlearn: 0.8698413\ttest: 0.8235294\tbest: 0.8398577 (7)\ttotal: 589ms\tremaining: 781ms\n",
            "43:\tlearn: 0.8730159\ttest: 0.8166090\tbest: 0.8398577 (7)\ttotal: 593ms\tremaining: 755ms\n",
            "44:\tlearn: 0.8730159\ttest: 0.8166090\tbest: 0.8398577 (7)\ttotal: 597ms\tremaining: 729ms\n",
            "45:\tlearn: 0.8761905\ttest: 0.8235294\tbest: 0.8398577 (7)\ttotal: 601ms\tremaining: 705ms\n",
            "46:\tlearn: 0.8775835\ttest: 0.8235294\tbest: 0.8398577 (7)\ttotal: 604ms\tremaining: 682ms\n",
            "47:\tlearn: 0.8775835\ttest: 0.8137931\tbest: 0.8398577 (7)\ttotal: 608ms\tremaining: 659ms\n",
            "48:\tlearn: 0.8789809\ttest: 0.8194444\tbest: 0.8398577 (7)\ttotal: 612ms\tremaining: 637ms\n",
            "49:\tlearn: 0.8789809\ttest: 0.8194444\tbest: 0.8398577 (7)\ttotal: 616ms\tremaining: 616ms\n",
            "50:\tlearn: 0.8803828\ttest: 0.8194444\tbest: 0.8398577 (7)\ttotal: 620ms\tremaining: 595ms\n",
            "51:\tlearn: 0.8839428\ttest: 0.8166090\tbest: 0.8398577 (7)\ttotal: 623ms\tremaining: 575ms\n",
            "52:\tlearn: 0.8835726\ttest: 0.8166090\tbest: 0.8398577 (7)\ttotal: 627ms\tremaining: 556ms\n",
            "53:\tlearn: 0.8857143\ttest: 0.8166090\tbest: 0.8398577 (7)\ttotal: 631ms\tremaining: 538ms\n",
            "54:\tlearn: 0.8857143\ttest: 0.8166090\tbest: 0.8398577 (7)\ttotal: 635ms\tremaining: 519ms\n",
            "55:\tlearn: 0.8871224\ttest: 0.8166090\tbest: 0.8398577 (7)\ttotal: 639ms\tremaining: 502ms\n",
            "56:\tlearn: 0.8885350\ttest: 0.8194444\tbest: 0.8398577 (7)\ttotal: 643ms\tremaining: 485ms\n",
            "57:\tlearn: 0.8899522\ttest: 0.8194444\tbest: 0.8398577 (7)\ttotal: 657ms\tremaining: 476ms\n",
            "58:\tlearn: 0.8885350\ttest: 0.8137931\tbest: 0.8398577 (7)\ttotal: 661ms\tremaining: 459ms\n",
            "59:\tlearn: 0.8899522\ttest: 0.8137931\tbest: 0.8398577 (7)\ttotal: 665ms\tremaining: 443ms\n",
            "60:\tlearn: 0.8899522\ttest: 0.8137931\tbest: 0.8398577 (7)\ttotal: 668ms\tremaining: 427ms\n",
            "61:\tlearn: 0.8931419\ttest: 0.8166090\tbest: 0.8398577 (7)\ttotal: 672ms\tremaining: 412ms\n",
            "62:\tlearn: 0.8928000\ttest: 0.8166090\tbest: 0.8398577 (7)\ttotal: 676ms\tremaining: 397ms\n",
            "63:\tlearn: 0.8942308\ttest: 0.8137931\tbest: 0.8398577 (7)\ttotal: 680ms\tremaining: 382ms\n",
            "64:\tlearn: 0.8960000\ttest: 0.8096886\tbest: 0.8398577 (7)\ttotal: 683ms\tremaining: 368ms\n",
            "65:\tlearn: 0.8960000\ttest: 0.8125000\tbest: 0.8398577 (7)\ttotal: 687ms\tremaining: 354ms\n",
            "66:\tlearn: 0.8988764\ttest: 0.8027682\tbest: 0.8398577 (7)\ttotal: 691ms\tremaining: 340ms\n",
            "67:\tlearn: 0.8985507\ttest: 0.8083624\tbest: 0.8398577 (7)\ttotal: 695ms\tremaining: 327ms\n",
            "68:\tlearn: 0.8953301\ttest: 0.8083624\tbest: 0.8398577 (7)\ttotal: 699ms\tremaining: 314ms\n",
            "69:\tlearn: 0.8938907\ttest: 0.8083624\tbest: 0.8398577 (7)\ttotal: 703ms\tremaining: 301ms\n",
            "70:\tlearn: 0.8924559\ttest: 0.8083624\tbest: 0.8398577 (7)\ttotal: 707ms\tremaining: 289ms\n",
            "71:\tlearn: 0.8924559\ttest: 0.8083624\tbest: 0.8398577 (7)\ttotal: 711ms\tremaining: 276ms\n",
            "72:\tlearn: 0.8924559\ttest: 0.8083624\tbest: 0.8398577 (7)\ttotal: 715ms\tremaining: 265ms\n",
            "73:\tlearn: 0.8956661\ttest: 0.8083624\tbest: 0.8398577 (7)\ttotal: 719ms\tremaining: 253ms\n",
            "74:\tlearn: 0.8956661\ttest: 0.8083624\tbest: 0.8398577 (7)\ttotal: 723ms\tremaining: 241ms\n",
            "75:\tlearn: 0.8956661\ttest: 0.8083624\tbest: 0.8398577 (7)\ttotal: 727ms\tremaining: 229ms\n",
            "76:\tlearn: 0.8956661\ttest: 0.8083624\tbest: 0.8398577 (7)\ttotal: 730ms\tremaining: 218ms\n",
            "77:\tlearn: 0.8985507\ttest: 0.8055556\tbest: 0.8398577 (7)\ttotal: 740ms\tremaining: 209ms\n",
            "78:\tlearn: 0.8985507\ttest: 0.8055556\tbest: 0.8398577 (7)\ttotal: 744ms\tremaining: 198ms\n",
            "79:\tlearn: 0.9003215\ttest: 0.8083624\tbest: 0.8398577 (7)\ttotal: 747ms\tremaining: 187ms\n",
            "80:\tlearn: 0.9000000\ttest: 0.8083624\tbest: 0.8398577 (7)\ttotal: 751ms\tremaining: 176ms\n",
            "81:\tlearn: 0.9038462\ttest: 0.8083624\tbest: 0.8398577 (7)\ttotal: 755ms\tremaining: 166ms\n",
            "82:\tlearn: 0.9099678\ttest: 0.8083624\tbest: 0.8398577 (7)\ttotal: 759ms\tremaining: 155ms\n",
            "83:\tlearn: 0.9143780\ttest: 0.8055556\tbest: 0.8398577 (7)\ttotal: 763ms\tremaining: 145ms\n",
            "84:\tlearn: 0.9143780\ttest: 0.8055556\tbest: 0.8398577 (7)\ttotal: 767ms\tremaining: 135ms\n",
            "85:\tlearn: 0.9143780\ttest: 0.8055556\tbest: 0.8398577 (7)\ttotal: 770ms\tremaining: 125ms\n",
            "86:\tlearn: 0.9143780\ttest: 0.8055556\tbest: 0.8398577 (7)\ttotal: 774ms\tremaining: 116ms\n",
            "87:\tlearn: 0.9143780\ttest: 0.8013937\tbest: 0.8398577 (7)\ttotal: 778ms\tremaining: 106ms\n",
            "88:\tlearn: 0.9158576\ttest: 0.8013937\tbest: 0.8398577 (7)\ttotal: 782ms\tremaining: 96.6ms\n",
            "89:\tlearn: 0.9158576\ttest: 0.8013937\tbest: 0.8398577 (7)\ttotal: 786ms\tremaining: 87.3ms\n",
            "90:\tlearn: 0.9158576\ttest: 0.8055556\tbest: 0.8398577 (7)\ttotal: 790ms\tremaining: 78.1ms\n",
            "91:\tlearn: 0.9129032\ttest: 0.8013937\tbest: 0.8398577 (7)\ttotal: 794ms\tremaining: 69ms\n",
            "92:\tlearn: 0.9129032\ttest: 0.8055556\tbest: 0.8398577 (7)\ttotal: 797ms\tremaining: 60ms\n",
            "93:\tlearn: 0.9129032\ttest: 0.8055556\tbest: 0.8398577 (7)\ttotal: 801ms\tremaining: 51.1ms\n",
            "94:\tlearn: 0.9129032\ttest: 0.8055556\tbest: 0.8398577 (7)\ttotal: 805ms\tremaining: 42.4ms\n",
            "95:\tlearn: 0.9143780\ttest: 0.8055556\tbest: 0.8398577 (7)\ttotal: 809ms\tremaining: 33.7ms\n",
            "96:\tlearn: 0.9143780\ttest: 0.8055556\tbest: 0.8398577 (7)\ttotal: 813ms\tremaining: 25.1ms\n",
            "97:\tlearn: 0.9143780\ttest: 0.8055556\tbest: 0.8398577 (7)\ttotal: 816ms\tremaining: 16.7ms\n",
            "98:\tlearn: 0.9143780\ttest: 0.8055556\tbest: 0.8398577 (7)\ttotal: 820ms\tremaining: 8.28ms\n",
            "99:\tlearn: 0.9143780\ttest: 0.8055556\tbest: 0.8398577 (7)\ttotal: 824ms\tremaining: 0us\n",
            "bestTest = 0.8398576512\n",
            "bestIteration = 7\n",
            "Shrink model to first 8 iterations.\n"
          ]
        },
        {
          "output_type": "execute_result",
          "data": {
            "text/plain": [
              "<catboost.core.CatBoostClassifier at 0x7845b6160b80>"
            ]
          },
          "metadata": {},
          "execution_count": 16
        }
      ]
    },
    {
      "cell_type": "code",
      "source": [
        "y_pred = model_cb.predict(X_test)"
      ],
      "metadata": {
        "id": "-ar_pUX5UDvY"
      },
      "execution_count": 17,
      "outputs": []
    },
    {
      "cell_type": "code",
      "source": [
        "f1_score(y_test, y_pred)"
      ],
      "metadata": {
        "colab": {
          "base_uri": "https://localhost:8080/"
        },
        "id": "f4TD3_WGUJv4",
        "outputId": "6037b822-9ba6-4b36-cbaf-b5482aa2f280"
      },
      "execution_count": 18,
      "outputs": [
        {
          "output_type": "execute_result",
          "data": {
            "text/plain": [
              "0.8398576512455516"
            ]
          },
          "metadata": {},
          "execution_count": 18
        }
      ]
    },
    {
      "cell_type": "code",
      "source": [
        "accuracy_score(y_test, y_pred)"
      ],
      "metadata": {
        "colab": {
          "base_uri": "https://localhost:8080/"
        },
        "id": "mdf1P_rxULyi",
        "outputId": "114afd60-713b-46ac-a39a-4d10462f2a7b"
      },
      "execution_count": 19,
      "outputs": [
        {
          "output_type": "execute_result",
          "data": {
            "text/plain": [
              "0.7783251231527094"
            ]
          },
          "metadata": {},
          "execution_count": 19
        }
      ]
    }
  ]
}